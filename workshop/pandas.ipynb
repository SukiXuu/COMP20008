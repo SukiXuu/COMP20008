{
 "cells": [
  {
   "cell_type": "markdown",
   "metadata": {},
   "source": [
    "# Using Pandas with Python （我是一号标题）"
   ]
  },
  {
   "cell_type": "markdown",
   "metadata": {},
   "source": [
    "## 顺便学习一下markdown用法呀呀呀 （我是二号标题）"
   ]
  },
  {
   "cell_type": "markdown",
   "metadata": {},
   "source": [
    "### 首先最先需要的是倒入pandas包（我是三号标题）"
   ]
  },
  {
   "cell_type": "code",
   "execution_count": 1,
   "metadata": {},
   "outputs": [],
   "source": [
    "import pandas as pd"
   ]
  },
  {
   "cell_type": "markdown",
   "metadata": {},
   "source": [
    "### *第一部分 Series* （我是*斜体*三号标题）"
   ]
  },
  {
   "cell_type": "code",
   "execution_count": 2,
   "metadata": {},
   "outputs": [
    {
     "name": "stdout",
     "output_type": "stream",
     "text": [
      "0.46554255451183557\n",
      "[0.65805781 0.47856401 0.0395192 ]\n",
      "[0.3246384  0.89893439 0.38571318 0.75514919 0.10438266 0.17452838\n",
      " 0.6375862  0.82802295 0.3288087  0.41119535]\n"
     ]
    }
   ],
   "source": [
    "\"\"\" 创建Series的方法：1* 用数列表示 \"\"\"\n",
    "# 首先怎么随机生成数组？\n",
    "# 直接用numpy里面的相关包\n",
    "import numpy as np\n",
    "\n",
    "print(np.random.rand())\n",
    "print(np.random.rand(3))\n",
    "print(np.random.rand(10))"
   ]
  },
  {
   "cell_type": "markdown",
   "metadata": {},
   "source": [
    "**^ np.random.rand()默认输出一个[0,1)的数**    (我是**加粗**字体)"
   ]
  },
  {
   "cell_type": "markdown",
   "metadata": {},
   "source": [
    "---\n",
    "(oh 上面是个分割线)"
   ]
  },
  {
   "cell_type": "code",
   "execution_count": 3,
   "metadata": {},
   "outputs": [
    {
     "name": "stdout",
     "output_type": "stream",
     "text": [
      "[ 0.19017477 -1.17281821 -1.78824632  0.18997469 -0.33403389 -0.32236336\n",
      " -2.10329446  0.63224076  0.05305797  1.39260567 -0.60538211  0.142435\n",
      " -0.38598437 -1.53143036 -0.24157981 -0.54839683  1.04275612 -0.43232308\n",
      " -1.29449893 -0.28843934  1.12004452 -0.78753915 -0.65776682  1.21248908\n",
      "  0.29300887  0.32374008 -0.2589999   0.44634492  0.86386997 -0.94529584\n",
      "  0.01531267  0.6338974   0.9075318   0.57129172  1.13775433 -0.70775632\n",
      "  0.95542956  0.42326083 -1.29586967 -1.72941032  1.04332678  0.35495999\n",
      "  1.84906283  1.81946871 -1.92440823  0.82945138  0.68961736 -1.14726756\n",
      " -1.65257559 -0.27382828  1.78700775 -0.23826961 -0.46032088  1.1083451\n",
      "  0.64697895 -0.52268691  0.82795097 -0.40607788  1.6722361   2.40060394\n",
      " -0.787452   -0.38659874 -0.13594173 -1.18307934 -0.10103079 -1.86449336\n",
      " -0.77970606  1.39137215 -0.73526779  1.4303376   0.47548306  0.51477671\n",
      " -0.7198446   0.29047761  1.16533213 -0.38218939  1.39275172 -1.26914608\n",
      " -1.99793864  0.02047587 -1.39169248 -2.7232668   0.0713879   0.83137915\n",
      "  0.99277808 -0.49059808 -0.46752182 -1.03235403  0.08615844 -0.12979851\n",
      " -0.7258625  -1.21285308  0.42267058  0.93287929 -0.97655707 -0.42438464\n",
      " -0.12920599 -1.14520565  0.42806353  1.18087996]\n",
      "[ 0.63935934  0.62762829  0.7394741  -0.57360882 -0.68458485  0.78934712\n",
      "  0.71053999 -0.01178257  1.67453013  1.7215902   0.41095917 -1.13789935\n",
      "  1.77131596 -0.33013268  2.42010975  0.63083091  1.46490325  0.39915612\n",
      "  0.84955212  0.38361519]\n",
      "0.20945847366530035\n"
     ]
    },
    {
     "data": {
      "text/plain": [
       "' randn是生成一个符合正态分布的伪随机矩阵。\\n正态分布原则上是无上下界限的，只是取两端的值概率很小，\\n由概率统计的3sigma原则，可以认为其取值不会大于3或小于-3'"
      ]
     },
     "execution_count": 3,
     "metadata": {},
     "output_type": "execute_result"
    }
   ],
   "source": [
    "\"\"\" 随机数组的拓展\n",
    "1* np.random.rand() [生成[0.0, 1.0)之间的随机浮点数, 括号内是需要的个数, \n",
    "                        只要不是返回一个数值, 返回的都是数列list]\n",
    "2* np.random.randn() [该函数返回一个样本，具有标准正态分布]\"\"\"\n",
    "# 1* 在[2]做了\n",
    "\n",
    "# 2* emmmmm 一个数也是可以的 好像是没有范围...\n",
    "print(np.random.randn(100))\n",
    "print(np.random.randn(20))\n",
    "print(np.random.randn())\n",
    "# 搜来的大佬是这样说的\n",
    "\"\"\" randn是生成一个符合正态分布的伪随机矩阵。\n",
    "正态分布原则上是无上下界限的，只是取两端的值概率很小，\n",
    "由概率统计的3sigma原则，可以认为其取值不会大于3或小于-3\"\"\""
   ]
  },
  {
   "cell_type": "code",
   "execution_count": 4,
   "metadata": {},
   "outputs": [
    {
     "name": "stdout",
     "output_type": "stream",
     "text": [
      "[5 4 3 3]\n",
      "[4 7 3 0 2 0 6 6 3 6]\n",
      "9\n"
     ]
    }
   ],
   "source": [
    "\"\"\" 3* np.random.randint(low, high, size) [返回随机的整数，位于半开区间 \n",
    "                                            [low, high)]\"\"\"\n",
    "print(np.random.randint(2, 6, 4)) # 小，大，要的个数\n",
    "print(np.random.randint(10,size=10)) # 这么写默认大于0\n",
    "print(np.random.randint(0,10)) # 这个就只会返回一个数, 相当于默认size=1"
   ]
  },
  {
   "cell_type": "markdown",
   "metadata": {},
   "source": [
    "**print(np.random.randint(0,size=10)) # 这个就报错了因为默认就是[0,0)**"
   ]
  },
  {
   "cell_type": "code",
   "execution_count": 5,
   "metadata": {},
   "outputs": [
    {
     "name": "stdout",
     "output_type": "stream",
     "text": [
      "1\n",
      "[1 0 0 1 0]\n",
      "2\n"
     ]
    }
   ],
   "source": [
    "\"\"\" 4* np.randint(low, high, size) [返回随机的整数，位于闭区间 [low, high]]\"\"\"\n",
    "\n",
    "print(np.random.randint(5))\n",
    "print(np.random.randint(2,size=5))\n",
    "print(np.random.randint(2,5))\n",
    "# 和上面一个一样"
   ]
  },
  {
   "cell_type": "code",
   "execution_count": 6,
   "metadata": {},
   "outputs": [
    {
     "name": "stdout",
     "output_type": "stream",
     "text": [
      "[0 1 2 3 4 5 6 7 8 9]\n",
      "[3 0 2 9 5 7 6 1 4 8]\n"
     ]
    },
    {
     "data": {
      "text/plain": [
       "array([6, 0, 9, 8, 5, 2, 3, 1, 7, 4])"
      ]
     },
     "execution_count": 6,
     "metadata": {},
     "output_type": "execute_result"
    }
   ],
   "source": [
    "\"\"\" 5* np.random.shuffle(x) [类似洗牌，打乱顺序；返回一个随机排]\"\"\"\n",
    "\n",
    "arr = np.arange(10)\n",
    "print(arr)\n",
    "np.random.shuffle(arr)\n",
    "print(arr)\n",
    "np.random.permutation(10)"
   ]
  },
  {
   "cell_type": "code",
   "execution_count": null,
   "metadata": {},
   "outputs": [],
   "source": []
  }
 ],
 "metadata": {
  "kernelspec": {
   "display_name": "Python 3",
   "language": "python",
   "name": "python3"
  },
  "language_info": {
   "codemirror_mode": {
    "name": "ipython",
    "version": 3
   },
   "file_extension": ".py",
   "mimetype": "text/x-python",
   "name": "python",
   "nbconvert_exporter": "python",
   "pygments_lexer": "ipython3",
   "version": "3.8.3"
  }
 },
 "nbformat": 4,
 "nbformat_minor": 4
}
