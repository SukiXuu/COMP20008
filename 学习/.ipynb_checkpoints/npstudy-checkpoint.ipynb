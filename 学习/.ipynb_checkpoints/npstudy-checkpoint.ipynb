{
 "cells": [
  {
   "cell_type": "markdown",
   "metadata": {},
   "source": [
    "# LEARING"
   ]
  },
  {
   "cell_type": "markdown",
   "metadata": {},
   "source": [
    "Youtube"
   ]
  },
  {
   "cell_type": "code",
   "execution_count": 2,
   "metadata": {},
   "outputs": [],
   "source": [
    "import numpy as np"
   ]
  },
  {
   "cell_type": "markdown",
   "metadata": {},
   "source": [
    "基于矩阵的运算，相比较于数列...的运算而言要快多达十几倍"
   ]
  },
  {
   "cell_type": "code",
   "execution_count": 3,
   "metadata": {},
   "outputs": [],
   "source": [
    "array = np.array([[1,2,3],[2,3,4]])"
   ]
  },
  {
   "cell_type": "code",
   "execution_count": 4,
   "metadata": {},
   "outputs": [
    {
     "name": "stdout",
     "output_type": "stream",
     "text": [
      "[[1 2 3]\n",
      " [2 3 4]]\n"
     ]
    }
   ],
   "source": [
    "print(array)"
   ]
  },
  {
   "cell_type": "markdown",
   "metadata": {},
   "source": [
    "数组定义一个矩阵,一般用列表--\n",
    "array 没有用逗号来区分～～～"
   ]
  },
  {
   "cell_type": "code",
   "execution_count": 5,
   "metadata": {},
   "outputs": [
    {
     "name": "stdout",
     "output_type": "stream",
     "text": [
      "number of dim:(维度) 2\n",
      "shapy (2, 3)\n",
      "size 6\n"
     ]
    }
   ],
   "source": [
    "print('number of dim:(维度)', array.ndim)\n",
    "print('shapy', array.shape)\n",
    "print('size', array.size)"
   ]
  },
  {
   "cell_type": "code",
   "execution_count": 15,
   "metadata": {},
   "outputs": [
    {
     "name": "stdout",
     "output_type": "stream",
     "text": [
      "int64\n",
      "int32\n",
      "float64\n"
     ]
    }
   ],
   "source": [
    "a = np.array([2,23,4], np.int)\n",
    "print(a.dtype)\n",
    "a = np.array([2,23,4], np.int32)\n",
    "print(a.dtype)\n",
    "a = np.array([2,23,4], np.float)\n",
    "print(a.dtype)"
   ]
  },
  {
   "cell_type": "markdown",
   "metadata": {},
   "source": [
    "在创建一个新的矩阵array/a 的同时，定义这个数的类型\n",
    "int默认为64位\n",
    "32位输入\n",
    "a = np.array([2,23,4], np.int32)\n",
    "位数越小 需要空间越大， 64 需要的空间大于 32，精度越高"
   ]
  },
  {
   "cell_type": "code",
   "execution_count": 34,
   "metadata": {},
   "outputs": [
    {
     "name": "stdout",
     "output_type": "stream",
     "text": [
      "[[0. 0. 0. 0.]\n",
      " [0. 0. 0. 0.]\n",
      " [0. 0. 0. 0.]]\n",
      "[[1. 1. 1. 1.]\n",
      " [1. 1. 1. 1.]\n",
      " [1. 1. 1. 1.]] float64\n",
      "[[1.28822975e-231 2.32035667e+077]\n",
      " [1.48219694e-323 4.17201348e-309]]\n"
     ]
    }
   ],
   "source": [
    "a = np.zeros((3,4)) #用括号表示 几行几列的array，生成的形式类似于Matlab\n",
    "print(a)\n",
    "a = np.ones((3,4), np.float)\n",
    "print(a, a.dtype)\n",
    "b = np.empty((2,2))\n",
    "print(b)"
   ]
  },
  {
   "cell_type": "code",
   "execution_count": 47,
   "metadata": {},
   "outputs": [
    {
     "name": "stdout",
     "output_type": "stream",
     "text": [
      "[10 12 14 16 18 20]\n",
      "[[10 12 14]\n",
      " [16 18 20]]\n"
     ]
    }
   ],
   "source": [
    "a = np.arange(10,22,2) #类比于range\n",
    "print(a)\n",
    "b = a.reshape(2,3)\n",
    "print(b)"
   ]
  },
  {
   "cell_type": "code",
   "execution_count": 48,
   "metadata": {},
   "outputs": [
    {
     "data": {
      "text/plain": [
       "array([[0, 0, 0],\n",
       "       [0, 0, 0]])"
      ]
     },
     "execution_count": 48,
     "metadata": {},
     "output_type": "execute_result"
    }
   ],
   "source": [
    "np.zeros_like(a)\n",
    "np.zeros_like(b)"
   ]
  },
  {
   "cell_type": "code",
   "execution_count": 51,
   "metadata": {},
   "outputs": [
    {
     "name": "stdout",
     "output_type": "stream",
     "text": [
      "[ 1.          1.47368421  1.94736842  2.42105263  2.89473684  3.36842105\n",
      "  3.84210526  4.31578947  4.78947368  5.26315789  5.73684211  6.21052632\n",
      "  6.68421053  7.15789474  7.63157895  8.10526316  8.57894737  9.05263158\n",
      "  9.52631579 10.        ]\n"
     ]
    }
   ],
   "source": [
    "a = np.linspace(1,10,20)\n",
    "print(a)"
   ]
  },
  {
   "cell_type": "code",
   "execution_count": 53,
   "metadata": {},
   "outputs": [
    {
     "data": {
      "text/plain": [
       "array([[ 1.        ,  1.47368421,  1.94736842,  2.42105263,  2.89473684],\n",
       "       [ 3.36842105,  3.84210526,  4.31578947,  4.78947368,  5.26315789],\n",
       "       [ 5.73684211,  6.21052632,  6.68421053,  7.15789474,  7.63157895],\n",
       "       [ 8.10526316,  8.57894737,  9.05263158,  9.52631579, 10.        ]])"
      ]
     },
     "execution_count": 53,
     "metadata": {},
     "output_type": "execute_result"
    }
   ],
   "source": [
    "a.reshape(4,5)"
   ]
  },
  {
   "cell_type": "code",
   "execution_count": 58,
   "metadata": {},
   "outputs": [
    {
     "name": "stdout",
     "output_type": "stream",
     "text": [
      "[1 2 3 4]\n",
      "[2 3 4 5]\n"
     ]
    }
   ],
   "source": [
    "a = np.array([1,2,3,4])\n",
    "b = np.arange(2,6)\n",
    "print(a)\n",
    "print(b)"
   ]
  },
  {
   "cell_type": "code",
   "execution_count": 60,
   "metadata": {},
   "outputs": [
    {
     "name": "stdout",
     "output_type": "stream",
     "text": [
      "[1 1 1 1]\n"
     ]
    }
   ],
   "source": [
    "print(b - a)"
   ]
  },
  {
   "cell_type": "code",
   "execution_count": 61,
   "metadata": {},
   "outputs": [
    {
     "name": "stdout",
     "output_type": "stream",
     "text": [
      "[ 8.41470985  9.09297427  1.41120008 -7.56802495]\n"
     ]
    }
   ],
   "source": [
    "c = 10*np.sin(a)\n",
    "print(c)"
   ]
  },
  {
   "cell_type": "code",
   "execution_count": 62,
   "metadata": {},
   "outputs": [
    {
     "name": "stdout",
     "output_type": "stream",
     "text": [
      "[2 3 4 5]\n",
      "[False  True  True  True]\n"
     ]
    }
   ],
   "source": [
    "print(b)\n",
    "print(b>2) #array中间的数值大小"
   ]
  },
  {
   "cell_type": "code",
   "execution_count": 64,
   "metadata": {},
   "outputs": [
    {
     "name": "stdout",
     "output_type": "stream",
     "text": [
      "[[1 2]\n",
      " [3 4]]\n",
      "[[0 1]\n",
      " [2 3]]\n"
     ]
    }
   ],
   "source": [
    "a = np.array([[1,2],[3,4]])\n",
    "b = np.arange(4).reshape(2,2)\n",
    "print(a)\n",
    "print(b)"
   ]
  },
  {
   "cell_type": "code",
   "execution_count": 68,
   "metadata": {},
   "outputs": [
    {
     "name": "stdout",
     "output_type": "stream",
     "text": [
      "[[ 0  2]\n",
      " [ 6 12]]\n",
      "[[ 4  7]\n",
      " [ 8 15]]\n",
      "[[ 4  7]\n",
      " [ 8 15]]\n"
     ]
    }
   ],
   "source": [
    "c = a * b #逐个相乘\n",
    "print(c)\n",
    "c = np.dot(a,b) #矩阵乘法\n",
    "print(c)\n",
    "c = a.dot(b) #矩阵乘法的另一个表现形式\n",
    "print(c)"
   ]
  },
  {
   "cell_type": "code",
   "execution_count": 70,
   "metadata": {},
   "outputs": [
    {
     "name": "stdout",
     "output_type": "stream",
     "text": [
      "[[0.13140252 0.57637054 0.56647187 0.36106786]\n",
      " [0.90452665 0.84403363 0.36761712 0.81325886]]\n"
     ]
    }
   ],
   "source": [
    "a = np.random.random((2,4)) #随机生成的数组 默认是0-1之间随机\n",
    "print(a)"
   ]
  },
  {
   "cell_type": "code",
   "execution_count": 71,
   "metadata": {},
   "outputs": [
    {
     "name": "stdout",
     "output_type": "stream",
     "text": [
      "float64\n"
     ]
    }
   ],
   "source": [
    "print(a.dtype)"
   ]
  },
  {
   "cell_type": "code",
   "execution_count": 76,
   "metadata": {},
   "outputs": [
    {
     "name": "stdout",
     "output_type": "stream",
     "text": [
      "4.564749047556193 0.13140251904656974 0.9045266491885493\n"
     ]
    }
   ],
   "source": [
    "print(np.sum(a),np.min(a),np.max(a))"
   ]
  },
  {
   "cell_type": "code",
   "execution_count": 77,
   "metadata": {},
   "outputs": [
    {
     "name": "stdout",
     "output_type": "stream",
     "text": [
      "[1.63531279 2.92943626] [0.13140252 0.36761712] [0.57637054 0.90452665]\n"
     ]
    }
   ],
   "source": [
    "print(np.sum(a,axis=1),np.min(a,axis=1),np.max(a,axis=1)) # axis=1行里求，axis=0列里求"
   ]
  },
  {
   "cell_type": "code",
   "execution_count": 89,
   "metadata": {},
   "outputs": [
    {
     "name": "stdout",
     "output_type": "stream",
     "text": [
      "[[ 2  3  4  5]\n",
      " [ 6  7  8  9]\n",
      " [10 11 12 13]]\n",
      "0\n",
      "11\n",
      "7.5 7.5 7.5\n",
      "7.5\n"
     ]
    }
   ],
   "source": [
    "a = np.arange(2,14).reshape(3,4)\n",
    "print(a)\n",
    "print(np.argmin(a))\n",
    "print(np.argmax(a)) #位置索引\n",
    "print(np.mean(a), a.mean(),np.average(a)) #平均值\n",
    "print(np.median(a)) #中位数"
   ]
  },
  {
   "cell_type": "code",
   "execution_count": 92,
   "metadata": {},
   "outputs": [
    {
     "name": "stdout",
     "output_type": "stream",
     "text": [
      "[[ 2  3  4  5]\n",
      " [ 6  7  8  9]\n",
      " [10 11 12 13]]\n",
      "[ 2  5  9 14 20 27 35 44 54 65 77 90]\n",
      "[[1 1 1]\n",
      " [1 1 1]\n",
      " [1 1 1]]\n"
     ]
    }
   ],
   "source": [
    "print(a)\n",
    "print(np.cumsum(a)) #累加\n",
    "print(np.diff(a)) #累差 每一排单独"
   ]
  },
  {
   "cell_type": "code",
   "execution_count": 93,
   "metadata": {},
   "outputs": [
    {
     "name": "stdout",
     "output_type": "stream",
     "text": [
      "(array([0, 0, 0, 0, 1, 1, 1, 1, 2, 2, 2, 2]), array([0, 1, 2, 3, 0, 1, 2, 3, 0, 1, 2, 3]))\n"
     ]
    }
   ],
   "source": [
    "print(np.nonzero(a))"
   ]
  },
  {
   "cell_type": "markdown",
   "metadata": {},
   "source": [
    "第一个array表示行，第二个array表示列\n",
    "一一对应的看，\n",
    "比如array1 第一个表示第0行，array2第一个表示第0列\n",
    "then 加在一起表示第0行第0列是一个非0数"
   ]
  },
  {
   "cell_type": "code",
   "execution_count": 96,
   "metadata": {},
   "outputs": [
    {
     "name": "stdout",
     "output_type": "stream",
     "text": [
      "[[0 0 0 0]\n",
      " [0 0 0 0]\n",
      " [0 0 0 0]]\n",
      "(array([], dtype=int64), array([], dtype=int64))\n"
     ]
    }
   ],
   "source": [
    "b = np.zeros_like(a)\n",
    "print(b)\n",
    "print(np.nonzero(b))"
   ]
  },
  {
   "cell_type": "code",
   "execution_count": 102,
   "metadata": {},
   "outputs": [
    {
     "name": "stdout",
     "output_type": "stream",
     "text": [
      "[[0.32290496 0.79684498 0.58044269]\n",
      " [0.16506094 0.69179906 0.29578873]]\n",
      "[[0.32290496 0.58044269 0.79684498]\n",
      " [0.16506094 0.29578873 0.69179906]]\n"
     ]
    }
   ],
   "source": [
    "a = np.random.random((2,3)) \n",
    "print(a)\n",
    "print(np.sort(a)) #逐行排序"
   ]
  },
  {
   "cell_type": "code",
   "execution_count": 104,
   "metadata": {},
   "outputs": [
    {
     "name": "stdout",
     "output_type": "stream",
     "text": [
      "[[0.32290496 0.79684498 0.58044269]\n",
      " [0.16506094 0.69179906 0.29578873]]\n",
      "[[0.32290496 0.16506094]\n",
      " [0.79684498 0.69179906]\n",
      " [0.58044269 0.29578873]]\n",
      "[[0.32290496 0.16506094]\n",
      " [0.79684498 0.69179906]\n",
      " [0.58044269 0.29578873]]\n"
     ]
    }
   ],
   "source": [
    "print(a)\n",
    "print(np.transpose(a)) #对称 LA里面的T/transpose\n",
    "print(a.T)"
   ]
  },
  {
   "cell_type": "code",
   "execution_count": 105,
   "metadata": {},
   "outputs": [
    {
     "name": "stdout",
     "output_type": "stream",
     "text": [
      "[[0.13151273 0.3714942  0.23625099]\n",
      " [0.3714942  1.11354785 0.66714921]\n",
      " [0.23625099 0.66714921 0.42440469]]\n"
     ]
    }
   ],
   "source": [
    "print((a.T).dot(a))"
   ]
  },
  {
   "cell_type": "code",
   "execution_count": 106,
   "metadata": {},
   "outputs": [
    {
     "name": "stdout",
     "output_type": "stream",
     "text": [
      "[[0.32290496 0.79684498 0.58044269]\n",
      " [0.16506094 0.69179906 0.29578873]]\n",
      "[[0.32290496 0.5        0.5       ]\n",
      " [0.3        0.5        0.3       ]]\n"
     ]
    }
   ],
   "source": [
    "# np.clip 取大取小 中间不变\n",
    "print(a)\n",
    "print(np.clip(a,0.3,0.5))"
   ]
  },
  {
   "cell_type": "code",
   "execution_count": 116,
   "metadata": {},
   "outputs": [
    {
     "name": "stdout",
     "output_type": "stream",
     "text": [
      "0.4754735598944222\n",
      "0.4754735598944222\n",
      "float64\n"
     ]
    }
   ],
   "source": [
    "print(np.mean(a,axis=0,dtype=float))\n",
    "print(np.mean(a,axis=0))\n",
    "print(np.mean(a,axis=0).dtype)"
   ]
  },
  {
   "cell_type": "code",
   "execution_count": 6,
   "metadata": {
    "tags": []
   },
   "outputs": [
    {
     "output_type": "stream",
     "name": "stdout",
     "text": "[[0 1]\n [2 3]]\n"
    }
   ],
   "source": [
    "import numpy as np\n",
    "a = np.arange(4).reshape(2,2)\n",
    "print(a)"
   ]
  },
  {
   "cell_type": "code",
   "execution_count": 7,
   "metadata": {},
   "outputs": [],
   "source": [
    "a = np.delete(a, 1, axis=0)"
   ]
  },
  {
   "cell_type": "code",
   "execution_count": 8,
   "metadata": {
    "tags": []
   },
   "outputs": [
    {
     "output_type": "stream",
     "name": "stdout",
     "text": "[[0 1]]\n"
    }
   ],
   "source": [
    "print(a)"
   ]
  },
  {
   "cell_type": "code",
   "execution_count": null,
   "metadata": {},
   "outputs": [],
   "source": []
  }
 ],
 "metadata": {
  "kernelspec": {
   "display_name": "Python 3",
   "language": "python",
   "name": "python3"
  },
  "language_info": {
   "codemirror_mode": {
    "name": "ipython",
    "version": 3
   },
   "file_extension": ".py",
   "mimetype": "text/x-python",
   "name": "python",
   "nbconvert_exporter": "python",
   "pygments_lexer": "ipython3",
   "version": "3.8.3"
  }
 },
 "nbformat": 4,
 "nbformat_minor": 4
}